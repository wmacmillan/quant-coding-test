{
 "metadata": {
  "language_info": {
   "codemirror_mode": {
    "name": "ipython",
    "version": 3
   },
   "file_extension": ".py",
   "mimetype": "text/x-python",
   "name": "python",
   "nbconvert_exporter": "python",
   "pygments_lexer": "ipython3",
   "version": "3.9.1"
  },
  "orig_nbformat": 2,
  "kernelspec": {
   "name": "python391jvsc74a57bd0ac59ebe37160ed0dfa835113d9b8498d9f09ceb179beaac4002f036b9467c963",
   "display_name": "Python 3.9.1 64-bit"
  }
 },
 "nbformat": 4,
 "nbformat_minor": 2,
 "cells": [
  {
   "cell_type": "code",
   "execution_count": null,
   "metadata": {},
   "outputs": [],
   "source": [
    "import pandas as pd\n",
    "import numpy as np\n",
    "import math as mt\n",
    "from numpy import log\n",
    "import matplotlib.pyplot as plt\n",
    "import pyEX as p\n",
    "#token_personal = 'pk_02f3b1c68fdc458587c5414623b3434a'\n"
   ]
  },
  {
   "source": [
    "# Functions"
   ],
   "cell_type": "markdown",
   "metadata": {}
  },
  {
   "cell_type": "code",
   "execution_count": null,
   "metadata": {},
   "outputs": [],
   "source": [
    "def make_ret(df, long: bool=True) -> pd.Series:\n",
    "    \"\"\"Generates returns.\n",
    "\n",
    "    Args:\n",
    "        df (Pandas Dataframe or Series): A series or dataframe of daily close prices.\n",
    "        long (bool, optional): True indicates long-only, False is for short-only. Defaults to True.\n",
    "        \n",
    "    Returns:\n",
    "        pd.Series: cumulative daily returns, from logged daily close prices.\n",
    "    \"\"\"    \n",
    "    \n",
    "    if long:\n",
    "        sign = 1\n",
    "    else:\n",
    "        sign = -1\n",
    "\n",
    "    ret = (\n",
    "        sign*log(df)\n",
    "        .groupby(level=1)\n",
    "        .diff()\n",
    "        .groupby(level=0)\n",
    "        .mean()\n",
    "        .cumsum()\n",
    "    )\n",
    "    return ret"
   ]
  },
  {
   "cell_type": "code",
   "execution_count": null,
   "metadata": {},
   "outputs": [],
   "source": [
    "def sharpe_ratio(ret, risk_free= 0.0163 ):\n",
    "    ''' risk_free= 0.0163 #10 Year Treasury Rate\n",
    "    ret = return of portfolio\n",
    "    '''\n",
    "    ret = ret.dropna()\n",
    "    sharp_ratio = (ret.mean() - risk_free) / ret.std()\n",
    "    return sharp_ratio"
   ]
  },
  {
   "cell_type": "code",
   "execution_count": null,
   "metadata": {},
   "outputs": [],
   "source": [
    "def info_ratio(ret, benchmark):\n",
    "    ''' i face some problmes in dealing with the two dataframe\n",
    "    '''\n",
    "    ret = ret.dropna()\n",
    "    benchmark = benchmark.dropna()\n",
    "    ret = ret.values\n",
    "    benchmark = benchmark.values\n",
    "    diff = ret - benchmark\n",
    "    info_ratio = np.mean(diff) / np.std(diff)\n",
    "    return info_ratio"
   ]
  },
  {
   "cell_type": "code",
   "execution_count": null,
   "metadata": {},
   "outputs": [],
   "source": [
    "def sortino_ratio(ret, risk_free):\n",
    "    ''' risk_free= 0.0163 #10 Year Treasury Rate\n",
    "    ret = return of portfolio\n",
    "    '''\n",
    "    ret = ret.dropna()\n",
    "    neg_ret = ret[ret<0]\n",
    "    sortino_ratio = (ret.mean() - risk_free)/neg_ret.std()\n",
    "    return sortino_ratio"
   ]
  },
  {
   "source": [
    "# Analisys"
   ],
   "cell_type": "markdown",
   "metadata": {}
  },
  {
   "cell_type": "code",
   "execution_count": null,
   "metadata": {},
   "outputs": [],
   "source": [
    "c = p.Client(api_token=token_personal)"
   ]
  },
  {
   "source": [
    "comapny_list = pd.read_csv('constituents_csv.csv')\n",
    "stocks = comapny_list['Symbol'].tolist()\n",
    "comapny_list.head()\n",
    "\n",
    "c = p.Client(api_token=token_personal)"
   ],
   "cell_type": "code",
   "metadata": {},
   "execution_count": null,
   "outputs": []
  },
  {
   "source": [
    "health = comapny_list[comapny_list['Sector']=='Health Care']\n",
    "industrial = comapny_list[comapny_list['Sector']=='Industrials']\n",
    "Consumer_dis = comapny_list[comapny_list['Sector']=='Consumer Discretionary']\n",
    "total = [Consumer_dis, industrial]\n",
    "total =pd.concat(total)\n",
    "total = [total, health]\n",
    "total =pd.concat(total)\n"
   ],
   "cell_type": "code",
   "metadata": {},
   "execution_count": null,
   "outputs": []
  },
  {
   "cell_type": "code",
   "execution_count": null,
   "metadata": {},
   "outputs": [],
   "source": [
    "zio = pd.DataFrame()\n",
    "\n",
    "for inde,row in total.iterrows():\n",
    "    r = c.chartDF(symbol= row['Symbol'] , filter='date, symbol, open, high, low, close',timeframe='1m')\n",
    "    r['Sector'] = row['Sector']\n",
    "    zio = [zio, r]\n",
    "    zio = pd.concat(zio)   \n"
   ]
  },
  {
   "cell_type": "code",
   "execution_count": null,
   "metadata": {},
   "outputs": [],
   "source": [
    "#zio.to_csv('raw_data.csv', index=True)"
   ]
  },
  {
   "cell_type": "code",
   "execution_count": null,
   "metadata": {},
   "outputs": [],
   "source": [
    "zio = pd.read_csv('raw_data.csv')"
   ]
  },
  {
   "cell_type": "code",
   "execution_count": null,
   "metadata": {},
   "outputs": [],
   "source": [
    "final  = zio.reset_index().set_index(['date','symbol', 'Sector'])"
   ]
  },
  {
   "cell_type": "code",
   "execution_count": null,
   "metadata": {},
   "outputs": [],
   "source": [
    "Industrial = final[final.index.isin(['Industrials'], level=2)].close\n",
    "Health_Care =  final[final.index.isin(['Health Care'], level=2)].close\n",
    "Consumer_Discretionary =  final[final.index.isin(['Consumer Discretionary'], level=2)].close"
   ]
  },
  {
   "cell_type": "code",
   "execution_count": null,
   "metadata": {},
   "outputs": [],
   "source": [
    "Long = make_ret(Industrial, True)\n",
    "\n",
    "Long_Short = make_ret(Health_Care, True) + make_ret(Consumer_Discretionary, False)"
   ]
  },
  {
   "cell_type": "code",
   "execution_count": null,
   "metadata": {},
   "outputs": [],
   "source": [
    "#fig, ax = plt.subplots()\n",
    "numbers = list((range(0,len(Long))))\n",
    "plt.xlabel('Moment')\n",
    "plt.ylabel('Aggre_ret')\n",
    "plt.plot(numbers, Long.values, label=\"LONG\")\n",
    "plt.plot(numbers, Long_Short.values, label=\"LONG-SHORT\")\n",
    "plt.legend()\n",
    "plt.show()"
   ]
  },
  {
   "cell_type": "code",
   "execution_count": null,
   "metadata": {},
   "outputs": [],
   "source": [
    "def sharpe_ratio(ret, risk_free= 0.0163 ):\n",
    "    sharp_ratio = (ret.mean() - risk_free) / ret.std()\n",
    "    return sharp_ratio"
   ]
  },
  {
   "source": [
    "# **INDICATORS FOR LONG**"
   ],
   "cell_type": "markdown",
   "metadata": {}
  },
  {
   "source": [
    "Sharpe Ratio"
   ],
   "cell_type": "markdown",
   "metadata": {}
  },
  {
   "cell_type": "code",
   "execution_count": null,
   "metadata": {},
   "outputs": [],
   "source": [
    "sharpe_ratio(Long, risk_free)"
   ]
  },
  {
   "source": [
    "Sortino Ratio"
   ],
   "cell_type": "markdown",
   "metadata": {}
  },
  {
   "cell_type": "code",
   "execution_count": null,
   "metadata": {},
   "outputs": [],
   "source": [
    "sortino_ratio(Long, risk_free)"
   ]
  },
  {
   "source": [
    "Information Ration with SP500 as index"
   ],
   "cell_type": "markdown",
   "metadata": {}
  },
  {
   "cell_type": "code",
   "execution_count": null,
   "metadata": {},
   "outputs": [],
   "source": [
    "sp_500 = c.chartDF(symbol= 'SPY' , filter='date, symbol,close',timeframe='1m')"
   ]
  },
  {
   "cell_type": "code",
   "execution_count": null,
   "metadata": {},
   "outputs": [],
   "source": [
    "benchmark  = sp_500.reset_index().set_index(['date','symbol'])\n",
    "ret_benchmark = make_ret(benchmark)"
   ]
  },
  {
   "source": [
    "info_ratio(Long, ret_benchmark)"
   ],
   "cell_type": "code",
   "metadata": {},
   "execution_count": null,
   "outputs": []
  },
  {
   "source": [
    "# **INDICATORS FOR LONG + SHORT**"
   ],
   "cell_type": "markdown",
   "metadata": {}
  },
  {
   "source": [
    "Sharpe Ratio"
   ],
   "cell_type": "markdown",
   "metadata": {}
  },
  {
   "cell_type": "code",
   "execution_count": null,
   "metadata": {},
   "outputs": [],
   "source": [
    "sharpe_ratio(Long_Short,ret)"
   ]
  },
  {
   "source": [
    "Sortino Ratio"
   ],
   "cell_type": "markdown",
   "metadata": {}
  },
  {
   "cell_type": "code",
   "execution_count": null,
   "metadata": {},
   "outputs": [],
   "source": [
    "sortino_ratio(Long_Short, risk_free)"
   ]
  },
  {
   "source": [
    "Information Ration with SP500 as index"
   ],
   "cell_type": "markdown",
   "metadata": {}
  },
  {
   "cell_type": "code",
   "execution_count": null,
   "metadata": {},
   "outputs": [],
   "source": [
    "##sp_500 = c.chartDF(symbol= 'SPY' , filter='date, symbol,close',timeframe='1m')\n",
    "benchmark  = sp_500.reset_index().set_index(['date','symbol'])\n",
    "ret_benchmark = make_ret(benchmark)"
   ]
  },
  {
   "cell_type": "code",
   "execution_count": null,
   "metadata": {},
   "outputs": [],
   "source": [
    "info_ratio(Long_Short, ret_benchmark)"
   ]
  }
 ]
}